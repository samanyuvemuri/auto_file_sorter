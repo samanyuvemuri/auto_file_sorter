{
 "cells": [
  {
   "cell_type": "code",
   "execution_count": 94,
   "id": "27342ec7",
   "metadata": {},
   "outputs": [],
   "source": [
    "import os, shutil"
   ]
  },
  {
   "cell_type": "code",
   "execution_count": null,
   "id": "3c99f0b2",
   "metadata": {},
   "outputs": [],
   "source": [
    "path = ''"
   ]
  },
  {
   "cell_type": "code",
   "execution_count": 96,
   "id": "a70bb5ba",
   "metadata": {},
   "outputs": [],
   "source": [
    "file_name = os.listdir(path)"
   ]
  },
  {
   "cell_type": "code",
   "execution_count": 97,
   "id": "5147f2c0",
   "metadata": {},
   "outputs": [],
   "source": [
    "folder_names = ['JPEG Files', 'PowerPoint Presentations', 'Word Documents', 'PDF Documents', 'PNG Images']\n",
    "\n",
    "for i in range(0,5):\n",
    "  if not os.path.exists(path + folder_names[i]):\n",
    "    os.makedirs((path + folder_names[i]))"
   ]
  },
  {
   "cell_type": "code",
   "execution_count": 98,
   "id": "8e98f98d",
   "metadata": {},
   "outputs": [],
   "source": [
    "for file in file_name:\n",
    "  if (file.endswith((\".jpeg\", \".jpg\", \".JPG\"))) and (not os.path.exists(path + \"JPEG Files/\" + file)):\n",
    "    shutil.move(path + file, path + \"JPEG Files/\" + file)\n",
    "  if (file.endswith(\".pptx\")) and (not os.path.exists(path + \"PowerPoint Presentations/\" + file)):\n",
    "    shutil.move(path + file, path + \"PowerPoint Presentations/\" + file)\n",
    "  if (file.endswith(\".docx\")) and (not os.path.exists(path + \"Word Documents/\" + file)):\n",
    "    shutil.move(path + file, path + \"Word Documents/\" + file)\n",
    "  if (file.endswith((\".pdf\", \".PDF\"))) and (not os.path.exists(path + \"PDF Documents/\" + file)):\n",
    "    shutil.move(path + file, path + \"PDF Documents/\" + file)\n",
    "  if (file.endswith(\".png\")) and (not os.path.exists(path + \"PNG Images/\" + file)):\n",
    "    shutil.move(path + file, path + \"PNG Images/\" + file)"
   ]
  },
  {
   "cell_type": "code",
   "execution_count": null,
   "id": "2ab81127",
   "metadata": {},
   "outputs": [],
   "source": []
  }
 ],
 "metadata": {
  "kernelspec": {
   "display_name": "base",
   "language": "python",
   "name": "python3"
  },
  "language_info": {
   "codemirror_mode": {
    "name": "ipython",
    "version": 3
   },
   "file_extension": ".py",
   "mimetype": "text/x-python",
   "name": "python",
   "nbconvert_exporter": "python",
   "pygments_lexer": "ipython3",
   "version": "3.12.7"
  }
 },
 "nbformat": 4,
 "nbformat_minor": 5
}
